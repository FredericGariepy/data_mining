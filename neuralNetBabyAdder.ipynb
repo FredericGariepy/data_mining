{
  "nbformat": 4,
  "nbformat_minor": 0,
  "metadata": {
    "colab": {
      "provenance": [],
      "authorship_tag": "ABX9TyMg0JgrxB8ztb5q7NVihO52",
      "include_colab_link": true
    },
    "kernelspec": {
      "name": "python3",
      "display_name": "Python 3"
    },
    "language_info": {
      "name": "python"
    }
  },
  "cells": [
    {
      "cell_type": "markdown",
      "metadata": {
        "id": "view-in-github",
        "colab_type": "text"
      },
      "source": [
        "<a href=\"https://colab.research.google.com/github/FredericGariepy/data_mining/blob/main/neuralNetBabyAdder.ipynb\" target=\"_parent\"><img src=\"https://colab.research.google.com/assets/colab-badge.svg\" alt=\"Open In Colab\"/></a>"
      ]
    },
    {
      "cell_type": "code",
      "execution_count": 1,
      "metadata": {
        "id": "0C_xclqSbS4h"
      },
      "outputs": [],
      "source": [
        "import torch\n",
        "from torch import nn\n",
        "import random"
      ]
    },
    {
      "cell_type": "code",
      "source": [
        "#this is just the function that the NN will have to figure out\n",
        "#this is also the output that the model will train against\n",
        "def mystery(a,b):\n",
        "    return torch.tensor(a+b)\n"
      ],
      "metadata": {
        "id": "Tflw0YZxb0A-"
      },
      "execution_count": 2,
      "outputs": []
    },
    {
      "cell_type": "code",
      "source": [
        "#this the actual model, 2 inputs, 1 oput, bias True\n",
        "# output will be a tensor float\n",
        "# bias must be true, otherwise no learning is made\n",
        "model = nn.Sequential(nn.Linear(2,1, bias=True))\n",
        "model"
      ],
      "metadata": {
        "colab": {
          "base_uri": "https://localhost:8080/"
        },
        "id": "KuNE-l_Yjk5h",
        "outputId": "ceacc537-8624-4c83-da7e-d662243912c3"
      },
      "execution_count": 10,
      "outputs": [
        {
          "output_type": "execute_result",
          "data": {
            "text/plain": [
              "Sequential(\n",
              "  (0): Linear(in_features=2, out_features=1, bias=True)\n",
              ")"
            ]
          },
          "metadata": {},
          "execution_count": 10
        }
      ]
    },
    {
      "cell_type": "code",
      "source": [
        "#Measure how well the neural net is doing\n",
        "#criterion\n",
        "#criterion , nn.MSE (mean square error loss)\n",
        "#Δ Error = Δ MSE\n",
        "criterion = nn.MSELoss()\n",
        "\n",
        "#optimizer = How is nn updated in training\n",
        "optimizer = torch.optim.SGD(model.parameters(), lr=0.01, momentum=0.9)"
      ],
      "metadata": {
        "id": "JPTvYHWpjzMw"
      },
      "execution_count": 11,
      "outputs": []
    },
    {
      "cell_type": "code",
      "source": [
        "# this is the training rounds\n",
        "for i in range(1000):\n",
        "  a = random.random()\n",
        "  b = random.random()\n",
        "  desiredOutput =  mystery(a,b)\n",
        "\n",
        "  actualOutput = model(torch.tensor([a,b])) #must be a tensor\n",
        "\n",
        "  #loss = difference bettween model output and desired output\n",
        "  # Δ training = ∇ loss\n",
        "  loss = criterion(actualOutput.squeeze(), desiredOutput)\n",
        "\n",
        "  # for ever 100th line print the loss\n",
        "  if i % 100 == 0:\n",
        "    print(f\"Loss: {loss.item()}\")\n",
        "\n",
        "  #  update the neural net\n",
        "  # This i did not learn yet (0.5.07)\n",
        "  optimizer.zero_grad()\n",
        "  loss.backward()\n",
        "  optimizer.step()"
      ],
      "metadata": {
        "colab": {
          "base_uri": "https://localhost:8080/"
        },
        "id": "EvGKxS_MkPMB",
        "outputId": "a12045df-592c-43bc-bab8-1d549fb3ff38"
      },
      "execution_count": 14,
      "outputs": [
        {
          "output_type": "stream",
          "name": "stdout",
          "text": [
            "Loss: 3.2704215049743652\n",
            "Loss: 0.001058950088918209\n",
            "Loss: 2.17879733099835e-05\n",
            "Loss: 6.1168921092757955e-06\n",
            "Loss: 2.4302740712300874e-05\n",
            "Loss: 1.3312472901816363e-06\n",
            "Loss: 1.2849524466673756e-07\n",
            "Loss: 9.78985781330266e-11\n",
            "Loss: 1.4210854715202004e-12\n",
            "Loss: 1.4551915228366852e-11\n"
          ]
        }
      ]
    },
    {
      "cell_type": "code",
      "source": [
        "a = 1.0\n",
        "b = 2.0\n",
        "\n",
        "output = model(torch.tensor([a,b]))\n",
        "\n",
        "print(output.item()) #.item because it is a tensor\n",
        "\n",
        "print(mystery(a,b).item())"
      ],
      "metadata": {
        "colab": {
          "base_uri": "https://localhost:8080/"
        },
        "id": "Zj7JJP3ToTsK",
        "outputId": "58a5f5d8-e294-429f-fab2-cd862a9eaa00"
      },
      "execution_count": 21,
      "outputs": [
        {
          "output_type": "stream",
          "name": "stdout",
          "text": [
            "2.999997615814209\n",
            "3.0\n"
          ]
        }
      ]
    },
    {
      "cell_type": "code",
      "source": [],
      "metadata": {
        "id": "Bu03pasJocDY"
      },
      "execution_count": null,
      "outputs": []
    }
  ]
}